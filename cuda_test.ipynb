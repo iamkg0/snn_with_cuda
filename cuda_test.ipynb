{
 "cells": [
  {
   "cell_type": "code",
   "execution_count": 1,
   "metadata": {},
   "outputs": [],
   "source": [
    "from cuda_layers import *\n",
    "import numpy as np\n",
    "import matplotlib.pyplot as plt\n",
    "import torch\n",
    "if torch.cuda.is_available() == True:\n",
    "    device = torch.device('cuda:0')\n",
    "else:\n",
    "    device = torch.device('cpu')"
   ]
  },
  {
   "cell_type": "code",
   "execution_count": 10,
   "metadata": {},
   "outputs": [
    {
     "name": "stdout",
     "output_type": "stream",
     "text": [
      "Label = 5\n"
     ]
    },
    {
     "data": {
      "image/png": "[encoded data removed]",
      "text/plain": [
       "<Figure size 432x288 with 1 Axes>"
      ]
     },
     "metadata": {
      "needs_background": "light"
     },
     "output_type": "display_data"
    }
   ],
   "source": [
    "import pandas as pd\n",
    "import os\n",
    "\n",
    "def visualize_image(index=6):\n",
    "    train_pd = pd.read_csv(os.path.join('digits', 'train.csv'))\n",
    "    train_np = train_pd.to_numpy()\n",
    "    train_X = train_np.T[1:].T\n",
    "    train_y = train_np.T[0].T\n",
    "    plt.imshow(train_X[index].reshape(28,28), cmap='gray')\n",
    "    plt.axis('off')\n",
    "    print(f'Label = {train_y[index]}')\n",
    "    return train_X, train_y\n",
    "\n",
    "class MNISTDataset:\n",
    "    def __init__(self, X, y=None):\n",
    "        self.X =X\n",
    "        self.y = y\n",
    "\n",
    "    def __len__(self):\n",
    "        return len(self.X)\n",
    "\n",
    "    def __getitem__(self, index):\n",
    "        return self.X[index], self.y[index]\n",
    "\n",
    "\n",
    "def data_preparation(train_X, train_y, denominator=5):\n",
    "    split = len(train_X)//denominator\n",
    "    train_data = MNISTDataset(train_X[:-split], y=train_y[:-split])\n",
    "                        \n",
    "    test_data = MNISTDataset(train_X[-split:], y=train_y[-split:])\n",
    "    return train_data, test_data\n",
    "\n",
    "\n",
    "data_X, data_y = visualize_image(8)\n",
    "\n",
    "train_data, test_data = data_preparation(data_X, data_y)\n",
    "\n",
    "iter_num = 1\n",
    "pics = [0,1,3,6,7,8,10,11,16,21]"
   ]
  },
  {
   "cell_type": "code",
   "execution_count": 24,
   "metadata": {},
   "outputs": [
    {
     "name": "stderr",
     "output_type": "stream",
     "text": [
      "c:\\Users\\KG\\Desktop\\Projects\\snn_with_cuda\\snn_with_cuda\\cuda_layers.py:102: UserWarning: To copy construct from a tensor, it is recommended to use sourceTensor.clone().detach() or sourceTensor.clone().detach().requires_grad_(True), rather than torch.tensor(sourceTensor).\n",
      "  sig = torch.tensor(signal)\n"
     ]
    },
    {
     "name": "stdout",
     "output_type": "stream",
     "text": [
      "epoch 0 passed\n",
      "epoch 1 passed\n",
      "epoch 2 passed\n"
     ]
    }
   ],
   "source": [
    "torch.random.manual_seed(42)\n",
    "pics = [0,1]\n",
    "pics = [0,1,3,6,7,8,10,11,16,21]\n",
    "#pics = [1,8]\n",
    "in_layer = Input_layer(device=device, size=28*28, g=.01, assymetry=2.05, learning_rate=.01, resolution=.1)\n",
    "out_layer = Output_layer(device=device, size=len(pics), resolution=.1)\n",
    "in_layer.make_connections(out_layer)\n",
    "for epoch in range(3):\n",
    "    for i in range(len(pics)):\n",
    "        #print(train_data[i][0])\n",
    "        signal = torch.tensor(train_data[pics[i]][0]) * 0.06\n",
    "        #print(signal.max(), signal.min())\n",
    "        signal.to(device)\n",
    "        #signal = (signal - signal.min()) / (signal.max() - signal.min())\n",
    "        for time in range(int(70//.1)):\n",
    "            in_layer.apply_current(signal=signal)\n",
    "            #_ = in_layer.behave()\n",
    "            in_layer.transmit_current()\n",
    "            out_layer.I[train_data[pics[i]][1]] += 11\n",
    "            _ = out_layer.behave()\n",
    "            out_layer.drop_impulse()\n",
    "            in_layer.normalize_weights()\n",
    "        in_layer.reboot_variables()\n",
    "        out_layer.reboot_variables()\n",
    "    print(f'epoch {epoch} passed')"
   ]
  },
  {
   "cell_type": "code",
   "execution_count": 25,
   "metadata": {},
   "outputs": [
    {
     "name": "stdout",
     "output_type": "stream",
     "text": [
      "pic 0 checked\n",
      "tensor(0.)\n",
      "pic 1 checked\n",
      "tensor(0.)\n",
      "pic 2 checked\n",
      "tensor(0.7440)\n",
      "pic 3 checked\n",
      "tensor(0.3543)\n",
      "pic 4 checked\n",
      "tensor(0.)\n",
      "pic 5 checked\n",
      "tensor(1.0948)\n",
      "pic 6 checked\n",
      "tensor(5.7815)\n",
      "pic 7 checked\n",
      "tensor(0.)\n",
      "pic 8 checked\n",
      "tensor(3.0533)\n",
      "pic 9 checked\n",
      "tensor(1.0849)\n",
      "preds [6 6 6 6 6 6 6 6 6 6]\n",
      "gts [1 0 4 7 3 5 8 9 2 6]\n",
      "accuracy 0.1\n"
     ]
    },
    {
     "data": {
      "image/png": "[encoded data removed]",
      "text/plain": [
       "<Figure size 432x288 with 1 Axes>"
      ]
     },
     "metadata": {
      "needs_background": "light"
     },
     "output_type": "display_data"
    },
    {
     "data": {
      "image/png": "[encoded data removed]",
      "text/plain": [
       "<Figure size 432x288 with 1 Axes>"
      ]
     },
     "metadata": {
      "needs_background": "light"
     },
     "output_type": "display_data"
    }
   ],
   "source": [
    "imp0 = []\n",
    "imp1 = []\n",
    "volt0 = []\n",
    "volt1 = []\n",
    "\n",
    "preds = []\n",
    "gts = []\n",
    "in_layer.update_weights = False\n",
    "for i in range(len(pics)):\n",
    "    curs = torch.zeros(len(pics))\n",
    "    curs.to(device)\n",
    "    signal = torch.tensor(train_data[pics[i]][0]) * 0.06\n",
    "    signal.to(device)\n",
    "    #signal = (signal - signal.min()) / (signal.max() - signal.min())\n",
    "    for time in range(int(100//.1) + 1):\n",
    "        in_layer.apply_current(signal=signal)\n",
    "        #_ = in_layer.behave()\n",
    "        in_layer.transmit_current()\n",
    "        _ = out_layer.behave()\n",
    "        curs += out_layer.I\n",
    "        imp0.append(out_layer.impulse[0].item())\n",
    "        imp1.append(out_layer.impulse[1].item())\n",
    "        volt0.append(out_layer.v[0].item())\n",
    "        volt1.append(out_layer.v[1].item())\n",
    "    preds.append(torch.argmax(curs).item())\n",
    "    gts.append(train_data[pics[i]][1])\n",
    "    print(f'pic {i} checked')\n",
    "    print(out_layer.impulse[i])\n",
    "    in_layer.reboot_variables()\n",
    "    out_layer.reboot_variables()\n",
    "preds = np.array(preds)\n",
    "gts = np.array(gts)\n",
    "correct = np.sum(preds == gts)\n",
    "accuracy = correct / len(pics)\n",
    "print(f'preds {preds}')\n",
    "print(f'gts {gts}')\n",
    "print(f'accuracy {accuracy}')\n",
    "\n",
    "x = np.arange(len(imp0)) * .1\n",
    "plt.figure()\n",
    "plt.plot(x, imp0)\n",
    "plt.plot(x, imp1)\n",
    "plt.figure()\n",
    "plt.plot(x, volt0)\n",
    "plt.plot(x, volt1)\n",
    "plt.show()"
   ]
  },
  {
   "cell_type": "code",
   "execution_count": 17,
   "metadata": {},
   "outputs": [
    {
     "name": "stderr",
     "output_type": "stream",
     "text": [
      "c:\\Users\\KG\\Desktop\\Projects\\snn_with_cuda\\snn_with_cuda\\cuda_layers.py:102: UserWarning: To copy construct from a tensor, it is recommended to use sourceTensor.clone().detach() or sourceTensor.clone().detach().requires_grad_(True), rather than torch.tensor(sourceTensor).\n",
      "  sig = torch.tensor(signal)\n"
     ]
    },
    {
     "name": "stdout",
     "output_type": "stream",
     "text": [
      "tensor(0.9013)\n",
      "tensor(0.0010)\n"
     ]
    },
    {
     "data": {
      "image/png": "[encoded data removed]",
      "text/plain": [
       "<Figure size 432x288 with 1 Axes>"
      ]
     },
     "metadata": {
      "needs_background": "light"
     },
     "output_type": "display_data"
    },
    {
     "data": {
      "image/png": "[encoded data removed]",
      "text/plain": [
       "<Figure size 432x288 with 1 Axes>"
      ]
     },
     "metadata": {
      "needs_background": "light"
     },
     "output_type": "display_data"
    }
   ],
   "source": [
    "torch.random.manual_seed(42)\n",
    "inimp0 = []\n",
    "inimp1 = []\n",
    "outimp0 = []\n",
    "outimp1 = []\n",
    "w00 = []\n",
    "w01 = []\n",
    "w10 = []\n",
    "w11 = []\n",
    "for i in range(int(1000)+1):\n",
    "    in_layer.apply_current(signal=signal)\n",
    "    #_ = in_layer.behave()\n",
    "    in_layer.transmit_current()\n",
    "    out_layer.I[0] += 0\n",
    "    out_layer.I[1] += 0\n",
    "    _ = out_layer.behave()\n",
    "    inimp0.append(in_layer.impulse[0].item())\n",
    "    inimp1.append(in_layer.impulse[1].item())\n",
    "    outimp0.append(out_layer.v[0].item())\n",
    "    outimp1.append(out_layer.v[1].item())\n",
    "    w00.append(in_layer.weights[0,0].item())\n",
    "    w01.append(in_layer.weights[0,1].item())\n",
    "    w10.append(in_layer.weights[1,0].item())\n",
    "    w11.append(in_layer.weights[1,1].item())\n",
    "    out_layer.drop_impulse()\n",
    "    #print(f'iter {i} passed')\n",
    "print(in_layer.weights.max())\n",
    "print(in_layer.weights.min())\n",
    "x = np.arange(len(inimp0)) * .1\n",
    "x1 = np.arange(len(imp0)) * .1\n",
    "plt.figure()\n",
    "#plt.plot(x, inimp0)\n",
    "#plt.plot(x, inimp1)\n",
    "plt.plot(x, outimp0, color='black')\n",
    "plt.plot(x, outimp1, color='red')\n",
    "plt.figure()\n",
    "plt.plot(x, w00)\n",
    "plt.plot(x, w01)\n",
    "plt.plot(x, w10, color='black')\n",
    "plt.plot(x, w11, color='red')\n",
    "plt.show()"
   ]
  },
  {
   "cell_type": "code",
   "execution_count": null,
   "metadata": {},
   "outputs": [],
   "source": [
    "torch.random.manual_seed(42)\n",
    "in_layer = Input_layer(device=device, size=100, g=10, assymetry=2.05, learning_rate=.001)\n",
    "out_layer = Output_layer(device=device, size=1)\n",
    "in_layer.make_connections(out_layer)\n",
    "signal = np.ones(len(in_layer))\n",
    "in_layer.apply_current(signal=signal)\n",
    "inimp = []\n",
    "outimp = []\n",
    "ws = []\n",
    "for i in range(int(100//.1) + 1):\n",
    "    _ = in_layer.behave()\n",
    "    in_layer.transmit_current()\n",
    "    out_layer.I[0] += 11\n",
    "    _ = out_layer.behave()\n",
    "    inimp.append(in_layer.impulse[0].item())\n",
    "    outimp.append(out_layer.impulse[0].item())\n",
    "    ws.append(in_layer.weights[0,0].item())\n",
    "    out_layer.drop_impulse()\n",
    "in_layer.reboot_variables()\n",
    "out_layer.reboot_variables()\n",
    "in_layer.apply_current(signal=signal*10)\n",
    "\n",
    "for i in range(int(100//.1) + 1):\n",
    "    _ = in_layer.behave()\n",
    "    in_layer.transmit_current()\n",
    "    out_layer.I[0] += 11\n",
    "    _ = out_layer.behave()\n",
    "    inimp.append(in_layer.impulse[0].item())\n",
    "    outimp.append(out_layer.impulse[0].item())\n",
    "    ws.append(in_layer.weights[1,0].item())\n",
    "    out_layer.drop_impulse()\n",
    "    \n",
    "x = np.arange(len(inimp)) * .1\n",
    "plt.figure(figsize=(19.2,7.2))\n",
    "plt.plot(x, inimp)\n",
    "plt.plot(x, outimp)\n",
    "plt.figure(figsize=(19.2,7.2))\n",
    "plt.plot(x, ws)\n",
    "plt.show()"
   ]
  },
  {
   "cell_type": "code",
   "execution_count": null,
   "metadata": {},
   "outputs": [],
   "source": [
    "torch.random.manual_seed(42)\n",
    "print(torch.rand(1))\n",
    "in_layer = Input_layer(device=device, size=2)\n",
    "in_layer.apply_current(signal=[5,10])\n",
    "a0 = []\n",
    "a1 = []\n",
    "for i in range(1000):\n",
    "    _ = in_layer.behave()\n",
    "    b0 = in_layer.impulse[0].item()\n",
    "    b1 = in_layer.impulse[1].item()\n",
    "    a0.append(b0)\n",
    "    a1.append(b1)\n",
    "plt.plot(range(1000), a0)\n",
    "plt.plot(range(1000), a1)\n",
    "plt.show()"
   ]
  },
  {
   "cell_type": "code",
   "execution_count": null,
   "metadata": {},
   "outputs": [],
   "source": [
    "torch.random.manual_seed(42)\n",
    "in_layer = Input_layer(device=device, size=2, g=120)\n",
    "out_layer = Output_layer(device=device, size=2)\n",
    "in_layer.make_connections(out_layer)\n",
    "in_layer.apply_current(signal=[7,10])\n",
    "\n",
    "in0 = []\n",
    "in1 = []\n",
    "out0 = []\n",
    "out1 = []\n",
    "time = range(1000)\n",
    "for i in range(1000):\n",
    "    _ = in_layer.behave()\n",
    "    in_layer.transmit_current()\n",
    "    out_layer.I[0] += 6\n",
    "    out_layer.I[1] += 9\n",
    "    _ = out_layer.behave()\n",
    "    a0 = in_layer.v[0].item()\n",
    "    a1 = in_layer.v[1].item()\n",
    "    b0 = out_layer.v[0].item()\n",
    "    b1 = out_layer.v[1].item()\n",
    "    out_layer.drop_impulse()\n",
    "    in0.append(a0)\n",
    "    in1.append(a1)\n",
    "    out0.append(b0)\n",
    "    out1.append(b1)\n",
    "\n",
    "plt.plot(range(1000), in0)\n",
    "plt.plot(range(1000), in1)\n",
    "plt.show()\n",
    "plt.plot(range(1000), out0)\n",
    "plt.plot(range(1000), out1)\n",
    "plt.show()\n",
    "\n"
   ]
  },
  {
   "cell_type": "code",
   "execution_count": null,
   "metadata": {},
   "outputs": [],
   "source": []
  }
 ],
 "metadata": {
  "kernelspec": {
   "display_name": "Python 3.10.2 64-bit",
   "language": "python",
   "name": "python3"
  },
  "language_info": {
   "codemirror_mode": {
    "name": "ipython",
    "version": 3
   },
   "file_extension": ".py",
   "mimetype": "text/x-python",
   "name": "python",
   "nbconvert_exporter": "python",
   "pygments_lexer": "ipython3",
   "version": "3.10.2"
  },
  "orig_nbformat": 4,
  "vscode": {
   "interpreter": {
    "hash": "73988063ba0dab6ae3ea4a42bdb4ce20a9c76327e4d3293f74cba715c929d465"
   }
  }
 },
 "nbformat": 4,
 "nbformat_minor": 2
}
